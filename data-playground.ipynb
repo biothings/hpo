{
 "cells": [
  {
   "cell_type": "code",
   "execution_count": 15,
   "id": "67996f62",
   "metadata": {},
   "outputs": [],
   "source": [
    "import time"
   ]
  },
  {
   "cell_type": "code",
   "execution_count": 16,
   "id": "4ac74990",
   "metadata": {},
   "outputs": [
    {
     "name": "stdout",
     "output_type": "stream",
     "text": [
      "Runtime of processing phenotype-gene data: 1.3962469100952148\n"
     ]
    }
   ],
   "source": [
    "data_table = {}\n",
    "start = time.time()\n",
    "with open('phenotype_to_genes.txt') as f:\n",
    "    header = f.readline()\n",
    "    for line in f:\n",
    "        datapoint = line.rstrip('\\n').split('\\t')\n",
    "        hpoID            = datapoint[0] # match with _id in HPO phenotype source\n",
    "        hpoLabel         = datapoint[1] # not needed\n",
    "        entrezGeneID     = datapoint[2]\n",
    "        entrezGeneSymbol = datapoint[3]\n",
    "        GDSourceInfo     = datapoint[4]\n",
    "        GDSource         = datapoint[5]\n",
    "        diseaseID        = datapoint[6]\n",
    "        obj = {\n",
    "            'entrez_gene_id': entrezGeneID,\n",
    "            'entrez_gene_symbol': entrezGeneSymbol,\n",
    "            'gd_source_info': GDSourceInfo,\n",
    "            'gd_source': GDSource,\n",
    "            'disease_id': diseaseID\n",
    "        }\n",
    "        data_table.setdefault(hpoID, []).append(obj)\n",
    "end = time.time()\n",
    "print(\"Runtime of processing phenotype-gene data:\", end - start)"
   ]
  },
  {
   "cell_type": "code",
   "execution_count": 21,
   "id": "d4c761f8",
   "metadata": {},
   "outputs": [
    {
     "name": "stdout",
     "output_type": "stream",
     "text": [
      "x is None\n"
     ]
    }
   ],
   "source": [
    "x = data_table.get('50')\n",
    "if not x:\n",
    "    print('x is None')"
   ]
  }
 ],
 "metadata": {
  "kernelspec": {
   "display_name": "Python 3",
   "language": "python",
   "name": "python3"
  },
  "language_info": {
   "codemirror_mode": {
    "name": "ipython",
    "version": 3
   },
   "file_extension": ".py",
   "mimetype": "text/x-python",
   "name": "python",
   "nbconvert_exporter": "python",
   "pygments_lexer": "ipython3",
   "version": "3.8.8"
  }
 },
 "nbformat": 4,
 "nbformat_minor": 5
}
